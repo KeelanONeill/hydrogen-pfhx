{
  "cells": [
    {
      "cell_type": "code",
      "execution_count": null,
      "metadata": {
        "colab": {
          "base_uri": "https://localhost:8080/",
          "height": 1000
        },
        "id": "dbqg0_A22xNS",
        "outputId": "709970e8-204c-4d0f-936c-c0e7f85c26a0"
      },
      "outputs": [],
      "source": [
        "# test for verifying model\n",
        "\n",
        "### CONFIGURATION ###\n",
        "configuration = {\n",
        "    'reactant': {\n",
        "        'mass_flow_rate': 100.0,   # tonne-per-day\n",
        "        'x_para': 0.25,            # para-hydrogen fraction at inlet\n",
        "        'temperature': 80,         # inlet temperature (K)\n",
        "        'pressure': 5000          # inlet pressure (kPa)\n",
        "    },\n",
        "    'coolant': {\n",
        "        'fluid': \"Helium\",         # type of coolant\n",
        "        'mass_flow_rate': 600.0,   # tonne-per-day\n",
        "        'temperature':  20.0,      # temperature of coolant at inlet (K)\n",
        "        'pressure': 500,           # pressure of coolant at inlet (kPa)\n",
        "    },\n",
        "    'reactor': {\n",
        "        'length': 6.0,             # m\n",
        "        'width': 1.5,              # m\n",
        "        'height': 2.0,             # m\n",
        "        'fin_thickness': 0.4e-3,   # m\n",
        "        'fin_height': 6.0e-3,      # m\n",
        "        'fin_pitch': 1.5e-3,       # m\n",
        "        'seration_length': 6.0e-3 # m\n",
        "        'parting_sheet_thickness': 1.5e-3 # m\n",
        "    },\n",
        "    'catalyst': {\n",
        "        'solid_fraction': 0.31,    # volumetric fraction of catlayst particles within reactor\n",
        "        'diameter': 424.0e-6,     # mean particle diameter\n",
        "        'density': 4.0            # solid density of catalyst particles (g/cm3)\n",
        "    },\n",
        "    'simulation': {\n",
        "        'nodes': 50,              # number of nodes across reactor length to setup\n",
        "        'tolerance': 1.0e-4,       # tolerance of bvp solver\n",
        "        'delta_t': 1.0            # initial guess of temperature difference between streams\n",
        "    }\n",
        "}\n",
        "\n",
        "# import packages\n",
        "!pip install hydrogen-pfhx\n",
        "!pip install matplotlib\n",
        "import matplotlib\n",
        "from hydrogen_pfhx import model, outputs\n",
        "\n",
        "# run the model with config\n",
        "print('\\n###### Running Simulation ######')\n",
        "results = model.model(configuration)\n",
        "\n",
        "# plot & display results!\n",
        "outputs.plot_results(results)\n",
        "matplotlib.pyplot.draw()\n",
        "\n",
        "# save results\n",
        "save_results_response = input('Would you like to save results [y/n]?\\n')\n",
        "if save_results_response == 'y':\n",
        "    # add drive file data\n",
        "    from google.colab import drive\n",
        "    drive.mount('/content/drive')\n",
        "    \n",
        "    # enter file info & save\n",
        "    file_name = input('Enter a file name to for results data:\\n')\n",
        "    full_path = '/content/drive/MyDrive/Colab Notebooks/' + file_name + '.csv'\n",
        "    outputs.save_results(results, full_path)\n",
        "    print('saved results as {}'.format(full_path))\n",
        "\n",
        "print('finished')\n",
        "\n"
      ]
    }
  ],
  "metadata": {
    "colab": {
      "collapsed_sections": [],
      "provenance": []
    },
    "kernelspec": {
      "display_name": "Python 3.9.7 ('.venv': venv)",
      "language": "python",
      "name": "python3"
    },
    "language_info": {
      "name": "python",
      "version": "3.9.7"
    },
    "vscode": {
      "interpreter": {
        "hash": "ea32e653202d45d2be27612daa6af9d9da1b23b890d8c15dcbc6860302721772"
      }
    }
  },
  "nbformat": 4,
  "nbformat_minor": 0
}
